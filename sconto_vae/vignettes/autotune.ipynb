{
 "cells": [
  {
   "cell_type": "markdown",
   "metadata": {},
   "source": [
    "## Autotune OntoVAE models"
   ]
  },
  {
   "cell_type": "markdown",
   "metadata": {},
   "source": [
    "The OntoVAE package contains a class ModelTuner() to do autotuning of the hyperparameters of OntoVAE. This vignette shows how to utilize this class to get optimal hyperparameter settings."
   ]
  },
  {
   "cell_type": "markdown",
   "metadata": {},
   "source": [
    "### Creating a Tuner for OntoVAEcpa"
   ]
  },
  {
   "cell_type": "code",
   "execution_count": null,
   "metadata": {},
   "outputs": [],
   "source": [
    "import sys\n",
    "sys.path.append('/workspace')\n",
    "import scanpy as sc\n",
    "from sconto_vae.module.ontobj import *\n",
    "from sconto_vae.module.utils import *\n",
    "from sconto_vae.model.scontovae_cpa import *\n",
    "from sconto_vae.module.autotune import *\n",
    "from ray import tune"
   ]
  },
  {
   "cell_type": "code",
   "execution_count": null,
   "metadata": {},
   "outputs": [],
   "source": [
    "# load ontobj\n",
    "ontobj = Ontobj()\n",
    "ontobj.load('sconto_vae/GO/GO.ontobj')\n",
    "\n",
    "# load anndata\n",
    "adata = sc.read_h5ad('sconto_vae/data/train_pbmc.h5ad')\n",
    "\n",
    "# setup the anndata\n",
    "cpa_keys = ['condition']\n",
    "adata = utils.setup_anndata_ontovae(adata, ontobj, cpa_keys = cpa_keys)\n"
   ]
  },
  {
   "cell_type": "code",
   "execution_count": null,
   "metadata": {},
   "outputs": [],
   "source": [
    "# create the tuner and show a summary\n",
    "tuner = ModelTuner(OntoVAEcpa)\n",
    "tuner.info()"
   ]
  },
  {
   "cell_type": "markdown",
   "metadata": {},
   "source": [
    "### Tune Hyperparameters"
   ]
  },
  {
   "cell_type": "code",
   "execution_count": null,
   "metadata": {},
   "outputs": [],
   "source": [
    "# create the search space for as many parameters as desired from the tuner's summary\n",
    "search_space = {\"drop_class\": tune.choice([0.1, 0.2]), \"lr_vae\": tune.loguniform(1e-4, 1e-2)}\n",
    "\n",
    "# run the fit function of the tuner\n",
    "results = tuner.fit(adata, ontobj, search_space, epochs = 1, cpa_keys = cpa_keys, num_samples = 2, resources = {'gpu': 1})\n",
    "# show the best hyperparameter settings\n",
    "tuner.output(results[0], results[1])"
   ]
  }
 ],
 "metadata": {
  "kernelspec": {
   "display_name": "Python 3",
   "language": "python",
   "name": "python3"
  },
  "language_info": {
   "name": "python",
   "version": "3.8.10"
  }
 },
 "nbformat": 4,
 "nbformat_minor": 2
}
