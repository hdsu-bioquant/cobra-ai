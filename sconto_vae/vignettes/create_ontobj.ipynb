{
 "cells": [
  {
   "cell_type": "markdown",
   "metadata": {},
   "source": [
    "## Vignette for handling Ontobjs\n",
    "\n",
    "The OntoVAE package implements a class Ontobj(), wich functions as a container for preprocessing and trimming a given ontology such as GO. This vignette demonstrates how to work with the class."
   ]
  },
  {
   "cell_type": "markdown",
   "metadata": {},
   "source": [
    "### Creating and saving an ontobj"
   ]
  },
  {
   "cell_type": "code",
   "execution_count": null,
   "metadata": {},
   "outputs": [],
   "source": [
    "# import packages\n",
    "import sys\n",
    "sys.path.append('/workspace')\n",
    "from sconto_vae.module.ontobj import *"
   ]
  },
  {
   "cell_type": "code",
   "execution_count": null,
   "metadata": {},
   "outputs": [],
   "source": [
    "# initialize the Ontobj\n",
    "ontobj = Ontobj(description='GO_ontobj')"
   ]
  },
  {
   "cell_type": "code",
   "execution_count": null,
   "metadata": {},
   "outputs": [],
   "source": [
    "# initialize the ontology\n",
    "ontobj.initialize_dag(obo='/workspace/sconto_vae/data/GO/go-basic.obo',\n",
    "                   gene_annot='/workspace/sconto_vae/data/GO/hgnc_goterm_mapping.txt',\n",
    "                   filter_id = 'biological_process')"
   ]
  },
  {
   "cell_type": "code",
   "execution_count": null,
   "metadata": {},
   "outputs": [],
   "source": [
    "# trim the ontology\n",
    "ontobj.trim_dag(top_thresh=1000, \n",
    "             bottom_thresh=30)"
   ]
  },
  {
   "cell_type": "code",
   "execution_count": null,
   "metadata": {},
   "outputs": [],
   "source": [
    "# create masks for decoder initialization\n",
    "ontobj.create_masks(top_thresh=1000,\n",
    "                 bottom_thresh=30)"
   ]
  },
  {
   "cell_type": "code",
   "execution_count": null,
   "metadata": {},
   "outputs": [],
   "source": [
    "# compute Wang Semantic similarities (used for app)\n",
    "ontobj.compute_wsem_sim(obo='/workspace/sconto_vae/data/GO/go-basic.obo',\n",
    "                     top_thresh=1000,\n",
    "                     bottom_thresh=30)"
   ]
  },
  {
   "cell_type": "code",
   "execution_count": null,
   "metadata": {},
   "outputs": [],
   "source": [
    "# save ontobj\n",
    "ontobj.save('/workspace/sconto_vae/data/GO/GO.ontobj')"
   ]
  },
  {
   "cell_type": "markdown",
   "metadata": {},
   "source": [
    "### Loading an ontobj and accessing the data"
   ]
  },
  {
   "cell_type": "code",
   "execution_count": null,
   "metadata": {},
   "outputs": [],
   "source": [
    "# initialize Ontobj and load existing object\n",
    "ontobj = Ontobj()\n",
    "ontobj.load('/workspace/sconto_vae/data/GO/GO.ontobj')"
   ]
  },
  {
   "cell_type": "code",
   "execution_count": null,
   "metadata": {},
   "outputs": [],
   "source": [
    "# extract ontology annot\n",
    "annot = ontobj.extract_annot(top_thresh=1000, bottom_thresh=30)\n",
    "annot"
   ]
  },
  {
   "cell_type": "code",
   "execution_count": null,
   "metadata": {},
   "outputs": [],
   "source": [
    "# extract ontology genes\n",
    "genes = ontobj.extract_genes()\n",
    "genes"
   ]
  }
 ],
 "metadata": {
  "kernelspec": {
   "display_name": "base",
   "language": "python",
   "name": "python3"
  },
  "language_info": {
   "codemirror_mode": {
    "name": "ipython",
    "version": 3
   },
   "file_extension": ".py",
   "mimetype": "text/x-python",
   "name": "python",
   "nbconvert_exporter": "python",
   "pygments_lexer": "ipython3",
   "version": "3.10.8"
  },
  "orig_nbformat": 4
 },
 "nbformat": 4,
 "nbformat_minor": 2
}
