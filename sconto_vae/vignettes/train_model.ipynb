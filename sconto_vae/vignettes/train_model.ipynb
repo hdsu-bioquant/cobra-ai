{
 "cells": [
  {
   "cell_type": "markdown",
   "metadata": {},
   "source": [
    "## Train OntoVAE model"
   ]
  },
  {
   "cell_type": "code",
   "execution_count": 2,
   "metadata": {},
   "outputs": [
    {
     "name": "stderr",
     "output_type": "stream",
     "text": [
      "/opt/conda/lib/python3.10/site-packages/tqdm/auto.py:22: TqdmWarning: IProgress not found. Please update jupyter and ipywidgets. See https://ipywidgets.readthedocs.io/en/stable/user_install.html\n",
      "  from .autonotebook import tqdm as notebook_tqdm\n",
      "/opt/conda/lib/python3.10/site-packages/scvi/_settings.py:63: UserWarning: Since v1.0.0, scvi-tools no longer uses a random seed by default. Run `scvi.settings.seed = 0` to reproduce results from previous versions.\n",
      "  self.seed = seed\n",
      "/opt/conda/lib/python3.10/site-packages/scvi/_settings.py:70: UserWarning: Setting `dl_pin_memory_gpu_training` is deprecated in v1.0 and will be removed in v1.1. Please pass in `pin_memory` to the data loaders instead.\n",
      "  self.dl_pin_memory_gpu_training = (\n"
     ]
    }
   ],
   "source": [
    "# import packages\n",
    "import sys\n",
    "import scanpy as sc\n",
    "sys.path.append('/workspace')\n",
    "from sconto_vae.module.ontobj import *\n",
    "from sconto_vae.module.utils import *\n",
    "from sconto_vae.model.sconto_vae import *"
   ]
  },
  {
   "cell_type": "code",
   "execution_count": 3,
   "metadata": {},
   "outputs": [],
   "source": [
    "# load ontobj\n",
    "ontobj = Ontobj()\n",
    "ontobj.load('/workspace/sconto_vae/data/GO/GO.ontobj')"
   ]
  },
  {
   "cell_type": "code",
   "execution_count": 4,
   "metadata": {},
   "outputs": [
    {
     "name": "stderr",
     "output_type": "stream",
     "text": [
      "/opt/conda/lib/python3.10/site-packages/anndata/compat/__init__.py:298: FutureWarning: Moving element from .uns['neighbors']['distances'] to .obsp['distances'].\n",
      "\n",
      "This is where adjacency matrices should go now.\n",
      "  warn(\n",
      "/opt/conda/lib/python3.10/site-packages/anndata/compat/__init__.py:298: FutureWarning: Moving element from .uns['neighbors']['connectivities'] to .obsp['connectivities'].\n",
      "\n",
      "This is where adjacency matrices should go now.\n",
      "  warn(\n"
     ]
    }
   ],
   "source": [
    "# load anndata (Kang PBMC data - log normalized)\n",
    "adata = sc.read_h5ad('/workspace/sconto_vae/data/train_pbmc.h5ad')"
   ]
  },
  {
   "cell_type": "code",
   "execution_count": 5,
   "metadata": {},
   "outputs": [],
   "source": [
    "# setup the anndata\n",
    "adata = setup_anndata_ontovae(adata, ontobj)"
   ]
  },
  {
   "cell_type": "code",
   "execution_count": 5,
   "metadata": {},
   "outputs": [
    {
     "data": {
      "text/plain": [
       "scOntoVAE(\n",
       "  (encoder): Encoder(\n",
       "    (encoder): ModuleList(\n",
       "      (0): Sequential(\n",
       "        (0): Linear(in_features=19469, out_features=1755, bias=True)\n",
       "        (1): BatchNorm1d(1755, eps=1e-05, momentum=0.1, affine=True, track_running_stats=True)\n",
       "        (2): Dropout(p=0.2, inplace=False)\n",
       "        (3): ReLU()\n",
       "      )\n",
       "    )\n",
       "    (mu): Sequential(\n",
       "      (0): Linear(in_features=1755, out_features=1755, bias=True)\n",
       "      (1): Dropout(p=0.5, inplace=False)\n",
       "    )\n",
       "    (logvar): Sequential(\n",
       "      (0): Linear(in_features=1755, out_features=1755, bias=True)\n",
       "      (1): Dropout(p=0.5, inplace=False)\n",
       "    )\n",
       "  )\n",
       "  (decoder): OntoDecoder(\n",
       "    (decoder): ModuleList(\n",
       "      (0): Sequential(\n",
       "        (0): Linear(in_features=1755, out_features=42, bias=True)\n",
       "      )\n",
       "      (1): Sequential(\n",
       "        (0): Linear(in_features=1797, out_features=213, bias=True)\n",
       "      )\n",
       "      (2): Sequential(\n",
       "        (0): Linear(in_features=2010, out_features=621, bias=True)\n",
       "      )\n",
       "      (3): Sequential(\n",
       "        (0): Linear(in_features=2631, out_features=1080, bias=True)\n",
       "      )\n",
       "      (4): Sequential(\n",
       "        (0): Linear(in_features=3711, out_features=1401, bias=True)\n",
       "      )\n",
       "      (5): Sequential(\n",
       "        (0): Linear(in_features=5112, out_features=1437, bias=True)\n",
       "      )\n",
       "      (6): Sequential(\n",
       "        (0): Linear(in_features=6549, out_features=1269, bias=True)\n",
       "      )\n",
       "      (7): Sequential(\n",
       "        (0): Linear(in_features=7818, out_features=726, bias=True)\n",
       "      )\n",
       "      (8): Sequential(\n",
       "        (0): Linear(in_features=8544, out_features=399, bias=True)\n",
       "      )\n",
       "      (9): Sequential(\n",
       "        (0): Linear(in_features=8943, out_features=198, bias=True)\n",
       "      )\n",
       "      (10): Sequential(\n",
       "        (0): Linear(in_features=9141, out_features=84, bias=True)\n",
       "      )\n",
       "      (11): Sequential(\n",
       "        (0): Linear(in_features=9225, out_features=18, bias=True)\n",
       "      )\n",
       "      (12): Sequential(\n",
       "        (0): Linear(in_features=9243, out_features=6, bias=True)\n",
       "      )\n",
       "      (13): Sequential(\n",
       "        (0): Linear(in_features=9249, out_features=19469, bias=True)\n",
       "      )\n",
       "    )\n",
       "  )\n",
       ")"
      ]
     },
     "execution_count": 5,
     "metadata": {},
     "output_type": "execute_result"
    }
   ],
   "source": [
    "# initialize the model\n",
    "model = scOntoVAE(adata)\n",
    "model.to(model.device)"
   ]
  },
  {
   "cell_type": "code",
   "execution_count": 8,
   "metadata": {},
   "outputs": [
    {
     "name": "stdout",
     "output_type": "stream",
     "text": [
      "Epoch 1 of 5\n"
     ]
    },
    {
     "name": "stderr",
     "output_type": "stream",
     "text": [
      "100%|██████████| 106/106 [00:05<00:00, 17.78it/s]\n",
      "100%|██████████| 27/27 [00:00<00:00, 105.00it/s]\n"
     ]
    },
    {
     "name": "stdout",
     "output_type": "stream",
     "text": [
      "New best model!\n",
      "Train Loss: 38731.7956\n",
      "Val Loss: 28209.4666\n",
      "Epoch 2 of 5\n"
     ]
    },
    {
     "name": "stderr",
     "output_type": "stream",
     "text": [
      "100%|██████████| 106/106 [00:05<00:00, 17.84it/s]\n",
      "100%|██████████| 27/27 [00:00<00:00, 103.26it/s]\n"
     ]
    },
    {
     "name": "stdout",
     "output_type": "stream",
     "text": [
      "New best model!\n",
      "Train Loss: 27007.4509\n",
      "Val Loss: 21975.3391\n",
      "Epoch 3 of 5\n"
     ]
    },
    {
     "name": "stderr",
     "output_type": "stream",
     "text": [
      "100%|██████████| 106/106 [00:05<00:00, 17.81it/s]\n",
      "100%|██████████| 27/27 [00:00<00:00, 102.21it/s]\n"
     ]
    },
    {
     "name": "stdout",
     "output_type": "stream",
     "text": [
      "New best model!\n",
      "Train Loss: 24083.1830\n",
      "Val Loss: 20569.4857\n",
      "Epoch 4 of 5\n"
     ]
    },
    {
     "name": "stderr",
     "output_type": "stream",
     "text": [
      "100%|██████████| 106/106 [00:05<00:00, 17.80it/s]\n",
      "100%|██████████| 27/27 [00:00<00:00, 103.08it/s]\n"
     ]
    },
    {
     "name": "stdout",
     "output_type": "stream",
     "text": [
      "New best model!\n",
      "Train Loss: 22951.9595\n",
      "Val Loss: 19957.0698\n",
      "Epoch 5 of 5\n"
     ]
    },
    {
     "name": "stderr",
     "output_type": "stream",
     "text": [
      "100%|██████████| 106/106 [00:05<00:00, 17.83it/s]\n",
      "100%|██████████| 27/27 [00:00<00:00, 103.38it/s]\n"
     ]
    },
    {
     "name": "stdout",
     "output_type": "stream",
     "text": [
      "New best model!\n",
      "Train Loss: 22134.4548\n",
      "Val Loss: 19398.7668\n"
     ]
    }
   ],
   "source": [
    "# train the model\n",
    "model.train_model('/workspace/sconto_vae/test/best_model.pt',   \n",
    "                     lr=1e-4,                                 \n",
    "                     kl_coeff=1e-4,                           \n",
    "                     batch_size=128,                          \n",
    "                     epochs=5)      "
   ]
  },
  {
   "cell_type": "code",
   "execution_count": 6,
   "metadata": {},
   "outputs": [],
   "source": [
    "# load the best model\n",
    "model.load('/workspace/sconto_vae/test')"
   ]
  },
  {
   "cell_type": "code",
   "execution_count": 7,
   "metadata": {},
   "outputs": [
    {
     "name": "stderr",
     "output_type": "stream",
     "text": [
      "/opt/conda/lib/python3.10/abc.py:119: FutureWarning: SparseDataset is deprecated and will be removed in late 2024. It has been replaced by the public classes CSRDataset and CSCDataset.\n",
      "\n",
      "For instance checks, use `isinstance(X, (anndata.experimental.CSRDataset, anndata.experimental.CSCDataset))` instead.\n",
      "\n",
      "For creation, use `anndata.experimental.sparse_dataset(X)` instead.\n",
      "\n",
      "  return _abc_instancecheck(cls, instance)\n"
     ]
    }
   ],
   "source": [
    "# compute pathway activities\n",
    "act = model.get_pathway_activities()"
   ]
  }
 ],
 "metadata": {
  "kernelspec": {
   "display_name": "base",
   "language": "python",
   "name": "python3"
  },
  "language_info": {
   "codemirror_mode": {
    "name": "ipython",
    "version": 3
   },
   "file_extension": ".py",
   "mimetype": "text/x-python",
   "name": "python",
   "nbconvert_exporter": "python",
   "pygments_lexer": "ipython3",
   "version": "3.10.8"
  },
  "orig_nbformat": 4
 },
 "nbformat": 4,
 "nbformat_minor": 2
}
